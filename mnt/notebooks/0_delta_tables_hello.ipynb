{
 "cells": [
  {
   "cell_type": "code",
   "execution_count": 1,
   "id": "4731a6f1",
   "metadata": {},
   "outputs": [
    {
     "name": "stderr",
     "output_type": "stream",
     "text": [
      "Warning: Ignoring non-Spark config property: hive.metastore.uris\n"
     ]
    },
    {
     "name": "stdout",
     "output_type": "stream",
     "text": [
      ":: loading settings :: url = jar:file:/opt/bitnami/spark/jars/ivy-2.5.1.jar!/org/apache/ivy/core/settings/ivysettings.xml\n"
     ]
    },
    {
     "name": "stderr",
     "output_type": "stream",
     "text": [
      "Ivy Default Cache set to: /root/.ivy2/cache\n",
      "The jars for the packages stored in: /root/.ivy2/jars\n",
      "io.delta#delta-spark_2.12 added as a dependency\n",
      ":: resolving dependencies :: org.apache.spark#spark-submit-parent-82d6360f-68f9-426b-b879-23a5008dbb41;1.0\n",
      "\tconfs: [default]\n",
      "\tfound io.delta#delta-spark_2.12;3.2.0 in central\n",
      "\tfound io.delta#delta-storage;3.2.0 in central\n",
      "\tfound org.antlr#antlr4-runtime;4.9.3 in central\n",
      ":: resolution report :: resolve 336ms :: artifacts dl 13ms\n",
      "\t:: modules in use:\n",
      "\tio.delta#delta-spark_2.12;3.2.0 from central in [default]\n",
      "\tio.delta#delta-storage;3.2.0 from central in [default]\n",
      "\torg.antlr#antlr4-runtime;4.9.3 from central in [default]\n",
      "\t---------------------------------------------------------------------\n",
      "\t|                  |            modules            ||   artifacts   |\n",
      "\t|       conf       | number| search|dwnlded|evicted|| number|dwnlded|\n",
      "\t---------------------------------------------------------------------\n",
      "\t|      default     |   3   |   0   |   0   |   0   ||   3   |   0   |\n",
      "\t---------------------------------------------------------------------\n",
      ":: retrieving :: org.apache.spark#spark-submit-parent-82d6360f-68f9-426b-b879-23a5008dbb41\n",
      "\tconfs: [default]\n",
      "\t0 artifacts copied, 3 already retrieved (0kB/12ms)\n",
      "24/10/17 03:41:23 WARN NativeCodeLoader: Unable to load native-hadoop library for your platform... using builtin-java classes where applicable\n",
      "Setting default log level to \"WARN\".\n",
      "To adjust logging level use sc.setLogLevel(newLevel). For SparkR, use setLogLevel(newLevel).\n"
     ]
    },
    {
     "name": "stdout",
     "output_type": "stream",
     "text": [
      "Spark Running\n",
      "+---------+\n",
      "|namespace|\n",
      "+---------+\n",
      "|  default|\n",
      "+---------+\n",
      "\n"
     ]
    },
    {
     "name": "stderr",
     "output_type": "stream",
     "text": [
      "24/10/17 03:41:42 WARN HiveExternalCatalog: Couldn't find corresponding Hive SerDe for data source provider delta. Persisting data source table `spark_catalog`.`default`.`my_table` into Hive metastore in Spark SQL specific format, which is NOT compatible with Hive.\n",
      "24/10/17 03:41:43 WARN SessionState: METASTORE_FILTER_HOOK will be ignored, since hive.security.authorization.manager is set to instance of HiveAuthorizerFactory.\n",
      "24/10/17 03:41:52 WARN SparkStringUtils: Truncated the string representation of a plan since it was too large. This behavior can be adjusted by setting 'spark.sql.debug.maxToStringFields'.\n",
      "                                                                                \r"
     ]
    },
    {
     "name": "stdout",
     "output_type": "stream",
     "text": [
      "+---+-----+\n",
      "| id| name|\n",
      "+---+-----+\n",
      "|  1|Alice|\n",
      "|  2|  Bob|\n",
      "+---+-----+\n",
      "\n"
     ]
    }
   ],
   "source": [
    "import pyspark\n",
    "from pyspark.sql import SparkSession\n",
    "from delta import configure_spark_with_delta_pip\n",
    "\n",
    "import os\n",
    "\n",
    "\n",
    "jar_packages = [\n",
    "  \"io.delta:delta-spark_2.12:3.2.0\"\n",
    "]\n",
    "\n",
    "spark_extensions = [\n",
    "  \"io.delta.sql.DeltaSparkSessionExtension\"\n",
    "]\n",
    "\n",
    "spark = (\n",
    "    pyspark.sql.SparkSession.builder.appName(\"MyApp\")\n",
    "        #.master(\"spark://spark-master:7077\")\n",
    "\t\t.config(\"spark.jars.packages\", \"io.delta:delta-spark_2.12:3.2.0\")\n",
    "        .config(\"spark.sql.extensions\", \"io.delta.sql.DeltaSparkSessionExtension\")\n",
    "        .config(\"spark.sql.catalog.spark_catalog\", \"org.apache.spark.sql.delta.catalog.DeltaCatalog\")\n",
    "        .config(\"spark.hadoop.fs.defaultFS\", \"hdfs://namenode:9000\")\n",
    "        .config(\"hive.metastore.uris\", \"thrift://metastore:9083\")\n",
    "        .config(\"spark.sql.warehouse.dir\", \"user/delta/warehouse\")\n",
    "        .enableHiveSupport()\n",
    "        .getOrCreate()\n",
    ")\n",
    "\n",
    "\n",
    "# spark = configure_spark_with_delta_pip(builder)\n",
    "# .config(\"spark.hadoop.fs.s3a.impl\", \"org.apache.hadoop.fs.s3a.S3AFileSystem\") \\\n",
    "# .config(\"spark.hadoop.fs.s3a.access.key\", \"SEU_ACCESS_KEY\") \\\n",
    "# .config(\"spark.hadoop.fs.s3a.secret.key\", \"SEU_SECRET_KEY\") \\\n",
    "# .config(\"spark.hadoop.fs.s3a.endpoint\", \"http://SEU_MINIO_ENDPOINT:9000\") \\\n",
    "# .config(\"spark.hadoop.fs.s3a.path.style.access\", \"true\") \\\n",
    "    \n",
    "print(\"Spark Running\")\n",
    "\n",
    "spark.sql(\"SHOW DATABASES\").show()\n",
    "spark.sql(\"CREATE OR REPLACE TABLE my_table (id INT, name STRING) USING DELTA\")\n",
    "spark.sql(\"INSERT INTO my_table VALUES (1, 'Alice'), (2, 'Bob')\")\n",
    "spark.sql(\"SELECT * FROM my_table\").show()"
   ]
  },
  {
   "cell_type": "code",
   "execution_count": 10,
   "id": "ef0b20ae-85e2-4877-8a1b-997b6d5ce7c8",
   "metadata": {},
   "outputs": [
    {
     "name": "stdout",
     "output_type": "stream",
     "text": [
      "The sql extension is already loaded. To reload it, use:\n",
      "  %reload_ext sql\n"
     ]
    }
   ],
   "source": [
    "%load_ext sql"
   ]
  },
  {
   "cell_type": "code",
   "execution_count": 11,
   "id": "e7966271-07aa-48ed-86ec-f33a3fef4695",
   "metadata": {},
   "outputs": [],
   "source": [
    "%sql trino://trino@trino:8080"
   ]
  },
  {
   "cell_type": "code",
   "execution_count": 12,
   "id": "215bea2f-5d71-4804-8bbd-2ccee14ba0dc",
   "metadata": {},
   "outputs": [
    {
     "name": "stdout",
     "output_type": "stream",
     "text": [
      " * trino://trino@trino:8080\n",
      "Done.\n"
     ]
    },
    {
     "data": {
      "text/html": [
       "<table>\n",
       "    <thead>\n",
       "        <tr>\n",
       "            <th>Catalog</th>\n",
       "        </tr>\n",
       "    </thead>\n",
       "    <tbody>\n",
       "        <tr>\n",
       "            <td>hive</td>\n",
       "        </tr>\n",
       "        <tr>\n",
       "            <td>system</td>\n",
       "        </tr>\n",
       "    </tbody>\n",
       "</table>"
      ],
      "text/plain": [
       "[('hive',), ('system',)]"
      ]
     },
     "execution_count": 12,
     "metadata": {},
     "output_type": "execute_result"
    }
   ],
   "source": []
  },
  {
   "cell_type": "code",
   "execution_count": 13,
   "id": "ff304649-019a-41da-839f-4c0f2ffcda36",
   "metadata": {},
   "outputs": [
    {
     "name": "stdout",
     "output_type": "stream",
     "text": [
      " * trino://trino@trino:8080\n",
      "(trino.exceptions.TrinoExternalError) TrinoExternalError(type=EXTERNAL, name=UNSUPPORTED_TABLE_TYPE, message=\"Cannot query Delta Lake table 'test_db.my_table'\", query_id=20240909_033231_00005_heity)\n",
      "[SQL: select * FROM hive.test_db.my_table]\n",
      "(Background on this error at: https://sqlalche.me/e/20/e3q8)\n"
     ]
    }
   ],
   "source": [
    "%%sql\n",
    "select * FROM hive.test_db.my_table"
   ]
  },
  {
   "cell_type": "code",
   "execution_count": 25,
   "id": "ccd88d33-e5bb-445e-9ea5-0637ab6ef348",
   "metadata": {},
   "outputs": [
    {
     "name": "stdout",
     "output_type": "stream",
     "text": [
      " * trino://trino@trino:8080\n",
      "(trino.exceptions.TrinoExternalError) TrinoExternalError(type=EXTERNAL, name=HIVE_METASTORE_ERROR, message=\"Required field 'engine' is unset! Struct:TableStatsRequest(dbName:test_db, tblName:my_table2, colNames:[id, name], engine:null)\", query_id=20240909_034823_00017_heity)\n",
      "[SQL: CREATE TABLE hive.test_db.my_table2 (id INT, name char) WITH (format='parquet')]\n",
      "(Background on this error at: https://sqlalche.me/e/20/e3q8)\n"
     ]
    }
   ],
   "source": [
    "%%sql\n",
    "CREATE TABLE hive.test_db.my_table2 (id INT, name char) WITH (format='parquet')"
   ]
  },
  {
   "cell_type": "code",
   "execution_count": null,
   "id": "4717ed22",
   "metadata": {},
   "outputs": [],
   "source": []
  }
 ],
 "metadata": {
  "kernelspec": {
   "display_name": "Python 3 (ipykernel)",
   "language": "python",
   "name": "python3"
  },
  "language_info": {
   "codemirror_mode": {
    "name": "ipython",
    "version": 3
   },
   "file_extension": ".py",
   "mimetype": "text/x-python",
   "name": "python",
   "nbconvert_exporter": "python",
   "pygments_lexer": "ipython3",
   "version": "3.11.9"
  }
 },
 "nbformat": 4,
 "nbformat_minor": 5
}
